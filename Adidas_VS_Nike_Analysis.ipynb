{
  "cells": [
    {
      "cell_type": "markdown",
      "metadata": {
        "id": "view-in-github",
        "colab_type": "text"
      },
      "source": [
        "<a href=\"https://colab.research.google.com/github/DwiRizkyAriyansyah/UTS_Analitik-visualisasi-data/blob/main/Adidas_VS_Nike_Analysis.ipynb\" target=\"_parent\"><img src=\"https://colab.research.google.com/assets/colab-badge.svg\" alt=\"Open In Colab\"/></a>"
      ]
    },
    {
      "cell_type": "markdown",
      "id": "8f3d2be5",
      "metadata": {
        "id": "8f3d2be5"
      },
      "source": [
        "## Import Library"
      ]
    },
    {
      "cell_type": "code",
      "execution_count": null,
      "metadata": {
        "id": "KS48e1zGa-J2"
      },
      "outputs": [],
      "source": [
        "# 1. Import Library\n",
        "import pandas as pd\n",
        "import numpy as np\n",
        "import matplotlib.pyplot as plt\n",
        "import seaborn as sns\n",
        "\n",
        "from sklearn.model_selection import train_test_split\n",
        "from sklearn.preprocessing import StandardScaler, LabelEncoder\n",
        "from sklearn.linear_model import LinearRegression\n",
        "from sklearn.naive_bayes import GaussianNB\n",
        "from sklearn.tree import DecisionTreeRegressor\n",
        "from sklearn.svm import SVR\n",
        "from sklearn.neighbors import KNeighborsRegressor\n",
        "from sklearn.metrics import mean_squared_error, r2_score"
      ],
      "id": "KS48e1zGa-J2"
    },
    {
      "cell_type": "markdown",
      "id": "33923c82",
      "metadata": {
        "id": "33923c82"
      },
      "source": [
        "## Load Dataset"
      ]
    },
    {
      "cell_type": "code",
      "execution_count": null,
      "id": "1b0bcfa1",
      "metadata": {
        "colab": {
          "base_uri": "https://localhost:8080/",
          "height": 327
        },
        "id": "1b0bcfa1",
        "outputId": "a340beb1-d1b7-453d-e76f-49c9f69a1f91"
      },
      "outputs": [
        {
          "output_type": "execute_result",
          "data": {
            "text/plain": [
              "                                        Product Name Product ID  \\\n",
              "0  Women's adidas Originals NMD_Racer Primeknit S...     AH2430   \n",
              "1               Women's adidas Originals Sleek Shoes     G27341   \n",
              "2                  Women's adidas Swim Puka Slippers     CM0081   \n",
              "3   Women's adidas Sport Inspired Questar Ride Shoes     B44832   \n",
              "4           Women's adidas Originals Taekwondo Shoes     D98205   \n",
              "\n",
              "   Listing Price  Sale Price  Discount                    Brand  \\\n",
              "0          14999        7499        50  Adidas Adidas ORIGINALS   \n",
              "1           7599        3799        50         Adidas ORIGINALS   \n",
              "2            999         599        40        Adidas CORE / NEO   \n",
              "3           6999        3499        50        Adidas CORE / NEO   \n",
              "4           7999        3999        50         Adidas ORIGINALS   \n",
              "\n",
              "                                         Description  Rating  Reviews  \\\n",
              "0  Channeling the streamlined look of an '80s rac...     4.8       41   \n",
              "1  A modern take on adidas sport heritage, tailor...     3.3       24   \n",
              "2  These adidas Puka slippers for women's come wi...     2.6       37   \n",
              "3  Inspired by modern tech runners, these women's...     4.1       35   \n",
              "4  This design is inspired by vintage Taekwondo s...     3.5       72   \n",
              "\n",
              "          Last Visited  \n",
              "0  2020-04-13T15:06:14  \n",
              "1  2020-04-13T15:06:15  \n",
              "2  2020-04-13T15:06:15  \n",
              "3  2020-04-13T15:06:15  \n",
              "4  2020-04-13T15:06:15  "
            ],
            "text/html": [
              "\n",
              "  <div id=\"df-563296f3-243f-4063-800a-fec7a3e9b40e\" class=\"colab-df-container\">\n",
              "    <div>\n",
              "<style scoped>\n",
              "    .dataframe tbody tr th:only-of-type {\n",
              "        vertical-align: middle;\n",
              "    }\n",
              "\n",
              "    .dataframe tbody tr th {\n",
              "        vertical-align: top;\n",
              "    }\n",
              "\n",
              "    .dataframe thead th {\n",
              "        text-align: right;\n",
              "    }\n",
              "</style>\n",
              "<table border=\"1\" class=\"dataframe\">\n",
              "  <thead>\n",
              "    <tr style=\"text-align: right;\">\n",
              "      <th></th>\n",
              "      <th>Product Name</th>\n",
              "      <th>Product ID</th>\n",
              "      <th>Listing Price</th>\n",
              "      <th>Sale Price</th>\n",
              "      <th>Discount</th>\n",
              "      <th>Brand</th>\n",
              "      <th>Description</th>\n",
              "      <th>Rating</th>\n",
              "      <th>Reviews</th>\n",
              "      <th>Last Visited</th>\n",
              "    </tr>\n",
              "  </thead>\n",
              "  <tbody>\n",
              "    <tr>\n",
              "      <th>0</th>\n",
              "      <td>Women's adidas Originals NMD_Racer Primeknit S...</td>\n",
              "      <td>AH2430</td>\n",
              "      <td>14999</td>\n",
              "      <td>7499</td>\n",
              "      <td>50</td>\n",
              "      <td>Adidas Adidas ORIGINALS</td>\n",
              "      <td>Channeling the streamlined look of an '80s rac...</td>\n",
              "      <td>4.8</td>\n",
              "      <td>41</td>\n",
              "      <td>2020-04-13T15:06:14</td>\n",
              "    </tr>\n",
              "    <tr>\n",
              "      <th>1</th>\n",
              "      <td>Women's adidas Originals Sleek Shoes</td>\n",
              "      <td>G27341</td>\n",
              "      <td>7599</td>\n",
              "      <td>3799</td>\n",
              "      <td>50</td>\n",
              "      <td>Adidas ORIGINALS</td>\n",
              "      <td>A modern take on adidas sport heritage, tailor...</td>\n",
              "      <td>3.3</td>\n",
              "      <td>24</td>\n",
              "      <td>2020-04-13T15:06:15</td>\n",
              "    </tr>\n",
              "    <tr>\n",
              "      <th>2</th>\n",
              "      <td>Women's adidas Swim Puka Slippers</td>\n",
              "      <td>CM0081</td>\n",
              "      <td>999</td>\n",
              "      <td>599</td>\n",
              "      <td>40</td>\n",
              "      <td>Adidas CORE / NEO</td>\n",
              "      <td>These adidas Puka slippers for women's come wi...</td>\n",
              "      <td>2.6</td>\n",
              "      <td>37</td>\n",
              "      <td>2020-04-13T15:06:15</td>\n",
              "    </tr>\n",
              "    <tr>\n",
              "      <th>3</th>\n",
              "      <td>Women's adidas Sport Inspired Questar Ride Shoes</td>\n",
              "      <td>B44832</td>\n",
              "      <td>6999</td>\n",
              "      <td>3499</td>\n",
              "      <td>50</td>\n",
              "      <td>Adidas CORE / NEO</td>\n",
              "      <td>Inspired by modern tech runners, these women's...</td>\n",
              "      <td>4.1</td>\n",
              "      <td>35</td>\n",
              "      <td>2020-04-13T15:06:15</td>\n",
              "    </tr>\n",
              "    <tr>\n",
              "      <th>4</th>\n",
              "      <td>Women's adidas Originals Taekwondo Shoes</td>\n",
              "      <td>D98205</td>\n",
              "      <td>7999</td>\n",
              "      <td>3999</td>\n",
              "      <td>50</td>\n",
              "      <td>Adidas ORIGINALS</td>\n",
              "      <td>This design is inspired by vintage Taekwondo s...</td>\n",
              "      <td>3.5</td>\n",
              "      <td>72</td>\n",
              "      <td>2020-04-13T15:06:15</td>\n",
              "    </tr>\n",
              "  </tbody>\n",
              "</table>\n",
              "</div>\n",
              "    <div class=\"colab-df-buttons\">\n",
              "\n",
              "  <div class=\"colab-df-container\">\n",
              "    <button class=\"colab-df-convert\" onclick=\"convertToInteractive('df-563296f3-243f-4063-800a-fec7a3e9b40e')\"\n",
              "            title=\"Convert this dataframe to an interactive table.\"\n",
              "            style=\"display:none;\">\n",
              "\n",
              "  <svg xmlns=\"http://www.w3.org/2000/svg\" height=\"24px\" viewBox=\"0 -960 960 960\">\n",
              "    <path d=\"M120-120v-720h720v720H120Zm60-500h600v-160H180v160Zm220 220h160v-160H400v160Zm0 220h160v-160H400v160ZM180-400h160v-160H180v160Zm440 0h160v-160H620v160ZM180-180h160v-160H180v160Zm440 0h160v-160H620v160Z\"/>\n",
              "  </svg>\n",
              "    </button>\n",
              "\n",
              "  <style>\n",
              "    .colab-df-container {\n",
              "      display:flex;\n",
              "      gap: 12px;\n",
              "    }\n",
              "\n",
              "    .colab-df-convert {\n",
              "      background-color: #E8F0FE;\n",
              "      border: none;\n",
              "      border-radius: 50%;\n",
              "      cursor: pointer;\n",
              "      display: none;\n",
              "      fill: #1967D2;\n",
              "      height: 32px;\n",
              "      padding: 0 0 0 0;\n",
              "      width: 32px;\n",
              "    }\n",
              "\n",
              "    .colab-df-convert:hover {\n",
              "      background-color: #E2EBFA;\n",
              "      box-shadow: 0px 1px 2px rgba(60, 64, 67, 0.3), 0px 1px 3px 1px rgba(60, 64, 67, 0.15);\n",
              "      fill: #174EA6;\n",
              "    }\n",
              "\n",
              "    .colab-df-buttons div {\n",
              "      margin-bottom: 4px;\n",
              "    }\n",
              "\n",
              "    [theme=dark] .colab-df-convert {\n",
              "      background-color: #3B4455;\n",
              "      fill: #D2E3FC;\n",
              "    }\n",
              "\n",
              "    [theme=dark] .colab-df-convert:hover {\n",
              "      background-color: #434B5C;\n",
              "      box-shadow: 0px 1px 3px 1px rgba(0, 0, 0, 0.15);\n",
              "      filter: drop-shadow(0px 1px 2px rgba(0, 0, 0, 0.3));\n",
              "      fill: #FFFFFF;\n",
              "    }\n",
              "  </style>\n",
              "\n",
              "    <script>\n",
              "      const buttonEl =\n",
              "        document.querySelector('#df-563296f3-243f-4063-800a-fec7a3e9b40e button.colab-df-convert');\n",
              "      buttonEl.style.display =\n",
              "        google.colab.kernel.accessAllowed ? 'block' : 'none';\n",
              "\n",
              "      async function convertToInteractive(key) {\n",
              "        const element = document.querySelector('#df-563296f3-243f-4063-800a-fec7a3e9b40e');\n",
              "        const dataTable =\n",
              "          await google.colab.kernel.invokeFunction('convertToInteractive',\n",
              "                                                    [key], {});\n",
              "        if (!dataTable) return;\n",
              "\n",
              "        const docLinkHtml = 'Like what you see? Visit the ' +\n",
              "          '<a target=\"_blank\" href=https://colab.research.google.com/notebooks/data_table.ipynb>data table notebook</a>'\n",
              "          + ' to learn more about interactive tables.';\n",
              "        element.innerHTML = '';\n",
              "        dataTable['output_type'] = 'display_data';\n",
              "        await google.colab.output.renderOutput(dataTable, element);\n",
              "        const docLink = document.createElement('div');\n",
              "        docLink.innerHTML = docLinkHtml;\n",
              "        element.appendChild(docLink);\n",
              "      }\n",
              "    </script>\n",
              "  </div>\n",
              "\n",
              "\n",
              "<div id=\"df-30349e6d-f4cd-4871-b30b-6d91cc4aca7c\">\n",
              "  <button class=\"colab-df-quickchart\" onclick=\"quickchart('df-30349e6d-f4cd-4871-b30b-6d91cc4aca7c')\"\n",
              "            title=\"Suggest charts\"\n",
              "            style=\"display:none;\">\n",
              "\n",
              "<svg xmlns=\"http://www.w3.org/2000/svg\" height=\"24px\"viewBox=\"0 0 24 24\"\n",
              "     width=\"24px\">\n",
              "    <g>\n",
              "        <path d=\"M19 3H5c-1.1 0-2 .9-2 2v14c0 1.1.9 2 2 2h14c1.1 0 2-.9 2-2V5c0-1.1-.9-2-2-2zM9 17H7v-7h2v7zm4 0h-2V7h2v10zm4 0h-2v-4h2v4z\"/>\n",
              "    </g>\n",
              "</svg>\n",
              "  </button>\n",
              "\n",
              "<style>\n",
              "  .colab-df-quickchart {\n",
              "      --bg-color: #E8F0FE;\n",
              "      --fill-color: #1967D2;\n",
              "      --hover-bg-color: #E2EBFA;\n",
              "      --hover-fill-color: #174EA6;\n",
              "      --disabled-fill-color: #AAA;\n",
              "      --disabled-bg-color: #DDD;\n",
              "  }\n",
              "\n",
              "  [theme=dark] .colab-df-quickchart {\n",
              "      --bg-color: #3B4455;\n",
              "      --fill-color: #D2E3FC;\n",
              "      --hover-bg-color: #434B5C;\n",
              "      --hover-fill-color: #FFFFFF;\n",
              "      --disabled-bg-color: #3B4455;\n",
              "      --disabled-fill-color: #666;\n",
              "  }\n",
              "\n",
              "  .colab-df-quickchart {\n",
              "    background-color: var(--bg-color);\n",
              "    border: none;\n",
              "    border-radius: 50%;\n",
              "    cursor: pointer;\n",
              "    display: none;\n",
              "    fill: var(--fill-color);\n",
              "    height: 32px;\n",
              "    padding: 0;\n",
              "    width: 32px;\n",
              "  }\n",
              "\n",
              "  .colab-df-quickchart:hover {\n",
              "    background-color: var(--hover-bg-color);\n",
              "    box-shadow: 0 1px 2px rgba(60, 64, 67, 0.3), 0 1px 3px 1px rgba(60, 64, 67, 0.15);\n",
              "    fill: var(--button-hover-fill-color);\n",
              "  }\n",
              "\n",
              "  .colab-df-quickchart-complete:disabled,\n",
              "  .colab-df-quickchart-complete:disabled:hover {\n",
              "    background-color: var(--disabled-bg-color);\n",
              "    fill: var(--disabled-fill-color);\n",
              "    box-shadow: none;\n",
              "  }\n",
              "\n",
              "  .colab-df-spinner {\n",
              "    border: 2px solid var(--fill-color);\n",
              "    border-color: transparent;\n",
              "    border-bottom-color: var(--fill-color);\n",
              "    animation:\n",
              "      spin 1s steps(1) infinite;\n",
              "  }\n",
              "\n",
              "  @keyframes spin {\n",
              "    0% {\n",
              "      border-color: transparent;\n",
              "      border-bottom-color: var(--fill-color);\n",
              "      border-left-color: var(--fill-color);\n",
              "    }\n",
              "    20% {\n",
              "      border-color: transparent;\n",
              "      border-left-color: var(--fill-color);\n",
              "      border-top-color: var(--fill-color);\n",
              "    }\n",
              "    30% {\n",
              "      border-color: transparent;\n",
              "      border-left-color: var(--fill-color);\n",
              "      border-top-color: var(--fill-color);\n",
              "      border-right-color: var(--fill-color);\n",
              "    }\n",
              "    40% {\n",
              "      border-color: transparent;\n",
              "      border-right-color: var(--fill-color);\n",
              "      border-top-color: var(--fill-color);\n",
              "    }\n",
              "    60% {\n",
              "      border-color: transparent;\n",
              "      border-right-color: var(--fill-color);\n",
              "    }\n",
              "    80% {\n",
              "      border-color: transparent;\n",
              "      border-right-color: var(--fill-color);\n",
              "      border-bottom-color: var(--fill-color);\n",
              "    }\n",
              "    90% {\n",
              "      border-color: transparent;\n",
              "      border-bottom-color: var(--fill-color);\n",
              "    }\n",
              "  }\n",
              "</style>\n",
              "\n",
              "  <script>\n",
              "    async function quickchart(key) {\n",
              "      const quickchartButtonEl =\n",
              "        document.querySelector('#' + key + ' button');\n",
              "      quickchartButtonEl.disabled = true;  // To prevent multiple clicks.\n",
              "      quickchartButtonEl.classList.add('colab-df-spinner');\n",
              "      try {\n",
              "        const charts = await google.colab.kernel.invokeFunction(\n",
              "            'suggestCharts', [key], {});\n",
              "      } catch (error) {\n",
              "        console.error('Error during call to suggestCharts:', error);\n",
              "      }\n",
              "      quickchartButtonEl.classList.remove('colab-df-spinner');\n",
              "      quickchartButtonEl.classList.add('colab-df-quickchart-complete');\n",
              "    }\n",
              "    (() => {\n",
              "      let quickchartButtonEl =\n",
              "        document.querySelector('#df-30349e6d-f4cd-4871-b30b-6d91cc4aca7c button');\n",
              "      quickchartButtonEl.style.display =\n",
              "        google.colab.kernel.accessAllowed ? 'block' : 'none';\n",
              "    })();\n",
              "  </script>\n",
              "</div>\n",
              "\n",
              "    </div>\n",
              "  </div>\n"
            ],
            "application/vnd.google.colaboratory.intrinsic+json": {
              "type": "dataframe",
              "variable_name": "df",
              "summary": "{\n  \"name\": \"df\",\n  \"rows\": 3268,\n  \"fields\": [\n    {\n      \"column\": \"Product Name\",\n      \"properties\": {\n        \"dtype\": \"category\",\n        \"num_unique_values\": 1531,\n        \"samples\": [\n          \"Men's adidas Originals Rivalry RM Shoes\",\n          \"Men's adidas Running Bound Shoes\",\n          \"Men's adidas Originals NMD_R1 Shoes\"\n        ],\n        \"semantic_type\": \"\",\n        \"description\": \"\"\n      }\n    },\n    {\n      \"column\": \"Product ID\",\n      \"properties\": {\n        \"dtype\": \"string\",\n        \"num_unique_values\": 3179,\n        \"samples\": [\n          \"F36256\",\n          \"CK9631\",\n          \"CL7379\"\n        ],\n        \"semantic_type\": \"\",\n        \"description\": \"\"\n      }\n    },\n    {\n      \"column\": \"Listing Price\",\n      \"properties\": {\n        \"dtype\": \"number\",\n        \"std\": 4724,\n        \"min\": 0,\n        \"max\": 29999,\n        \"num_unique_values\": 78,\n        \"samples\": [\n          2999,\n          14999,\n          12999\n        ],\n        \"semantic_type\": \"\",\n        \"description\": \"\"\n      }\n    },\n    {\n      \"column\": \"Sale Price\",\n      \"properties\": {\n        \"dtype\": \"number\",\n        \"std\": 4293,\n        \"min\": 449,\n        \"max\": 36500,\n        \"num_unique_values\": 227,\n        \"samples\": [\n          4559,\n          16995,\n          2279\n        ],\n        \"semantic_type\": \"\",\n        \"description\": \"\"\n      }\n    },\n    {\n      \"column\": \"Discount\",\n      \"properties\": {\n        \"dtype\": \"number\",\n        \"std\": 22,\n        \"min\": 0,\n        \"max\": 60,\n        \"num_unique_values\": 6,\n        \"samples\": [\n          50,\n          40,\n          20\n        ],\n        \"semantic_type\": \"\",\n        \"description\": \"\"\n      }\n    },\n    {\n      \"column\": \"Brand\",\n      \"properties\": {\n        \"dtype\": \"category\",\n        \"num_unique_values\": 5,\n        \"samples\": [\n          \"Adidas ORIGINALS\",\n          \"Nike\",\n          \"Adidas CORE / NEO\"\n        ],\n        \"semantic_type\": \"\",\n        \"description\": \"\"\n      }\n    },\n    {\n      \"column\": \"Description\",\n      \"properties\": {\n        \"dtype\": \"string\",\n        \"num_unique_values\": 1762,\n        \"samples\": [\n          \"Ready for outdoor adventures? This versatile shoe's mountain grip supplies sure footing. Features mesh and synthetic upper with EVA midsole for maximum impact cushioning. Its Super High Traction Rubber for optimal grip in wet conditions.\",\n          \"Extremely functional and subtle running-inspired shoes for men. The mesh upper of these shoes promise a comfortable comfort and a lightweight pick, while the EVA midsole and rubber outsole ensure durability.\",\n          \"First introduced in 1950, the Samba is one of adidas' most iconic trainers. These shoes take the classic shape in a fresh, feminine direction with a shiny metallic finish. Trendy platform soles give you a little extra height. The supple leather upper hugs your feet.\"\n        ],\n        \"semantic_type\": \"\",\n        \"description\": \"\"\n      }\n    },\n    {\n      \"column\": \"Rating\",\n      \"properties\": {\n        \"dtype\": \"number\",\n        \"std\": 1.4288563043470943,\n        \"min\": 0.0,\n        \"max\": 5.0,\n        \"num_unique_values\": 32,\n        \"samples\": [\n          2.4,\n          5.0,\n          2.0\n        ],\n        \"semantic_type\": \"\",\n        \"description\": \"\"\n      }\n    },\n    {\n      \"column\": \"Reviews\",\n      \"properties\": {\n        \"dtype\": \"number\",\n        \"std\": 31,\n        \"min\": 0,\n        \"max\": 223,\n        \"num_unique_values\": 102,\n        \"samples\": [\n          4,\n          19,\n          49\n        ],\n        \"semantic_type\": \"\",\n        \"description\": \"\"\n      }\n    },\n    {\n      \"column\": \"Last Visited\",\n      \"properties\": {\n        \"dtype\": \"object\",\n        \"num_unique_values\": 318,\n        \"samples\": [\n          \"2020-04-13T15:07:27\",\n          \"2020-04-13T15:36:57\",\n          \"2020-04-13T15:06:39\"\n        ],\n        \"semantic_type\": \"\",\n        \"description\": \"\"\n      }\n    }\n  ]\n}"
            }
          },
          "metadata": {},
          "execution_count": 2
        }
      ],
      "source": [
        "# 2. Load Dataset\n",
        "\n",
        "# Membaca dataset dari file 'manga.csv' dan menyimpannya ke dalam DataFrame bernama df\n",
        "df = pd.read_csv('Adidas Vs Nike.csv')\n",
        "\n",
        "# Menampilkan 5 baris pertama dari dataset untuk melihat struktur dan sampel datanya\n",
        "df.head()"
      ]
    },
    {
      "cell_type": "markdown",
      "id": "0e0a5523",
      "metadata": {
        "id": "0e0a5523"
      },
      "source": [
        "## Eksplorasi dan Praproses Data"
      ]
    },
    {
      "cell_type": "code",
      "execution_count": null,
      "id": "18adb01e",
      "metadata": {
        "colab": {
          "base_uri": "https://localhost:8080/"
        },
        "id": "18adb01e",
        "outputId": "b8e7edf0-c300-4eb9-b365-3568323f09af"
      },
      "outputs": [
        {
          "output_type": "stream",
          "name": "stdout",
          "text": [
            "Informasi Data:\n",
            "<class 'pandas.core.frame.DataFrame'>\n",
            "RangeIndex: 3268 entries, 0 to 3267\n",
            "Data columns (total 10 columns):\n",
            " #   Column         Non-Null Count  Dtype  \n",
            "---  ------         --------------  -----  \n",
            " 0   Product Name   3268 non-null   object \n",
            " 1   Product ID     3268 non-null   object \n",
            " 2   Listing Price  3268 non-null   int64  \n",
            " 3   Sale Price     3268 non-null   int64  \n",
            " 4   Discount       3268 non-null   int64  \n",
            " 5   Brand          3268 non-null   object \n",
            " 6   Description    3265 non-null   object \n",
            " 7   Rating         3268 non-null   float64\n",
            " 8   Reviews        3268 non-null   int64  \n",
            " 9   Last Visited   3268 non-null   object \n",
            "dtypes: float64(1), int64(4), object(5)\n",
            "memory usage: 255.4+ KB\n",
            "None\n",
            "\n",
            "Cek Missing Values:\n",
            "Product Name     0\n",
            "Product ID       0\n",
            "Listing Price    0\n",
            "Sale Price       0\n",
            "Discount         0\n",
            "Brand            0\n",
            "Description      3\n",
            "Rating           0\n",
            "Reviews          0\n",
            "Last Visited     0\n",
            "dtype: int64\n"
          ]
        }
      ],
      "source": [
        "# 3. Eksplorasi dan Praproses Data\n",
        "\n",
        "# Menampilkan informasi umum tentang dataset, termasuk jumlah entri, tipe data, dan non-null count per kolom\n",
        "print(\"Informasi Data:\")\n",
        "print(df.info())\n",
        "\n",
        "# Menampilkan jumlah missing values (nilai kosong) pada setiap kolom\n",
        "print(\"\\nCek Missing Values:\")\n",
        "print(df.isnull().sum())\n",
        "\n",
        "# Menghapus kolom yang memiliki missing values lebih dari 20% total baris\n",
        "df = df.dropna(thresh=0.8*len(df), axis=1)\n",
        "\n",
        "# Menghapus seluruh baris yang masih memiliki missing values setelah proses sebelumnya\n",
        "df = df.dropna()\n",
        "\n",
        "# Melakukan encoding pada kolom-kolom bertipe kategorikal (object) menjadi numerik\n",
        "# Menggunakan LabelEncoder untuk mengubah nilai string menjadi angka\n",
        "label_encoders = {}\n",
        "for col in df.select_dtypes(include='object').columns:\n",
        "    le = LabelEncoder()\n",
        "    df[col] = le.fit_transform(df[col])\n",
        "    label_encoders[col] = le"
      ]
    },
    {
      "cell_type": "markdown",
      "id": "b41c6edb",
      "metadata": {
        "id": "b41c6edb"
      },
      "source": [
        "Bagian kode ini digunakan untuk membersihkan dan menyiapkan data. Pertama, ditampilkan informasi struktur dataset dan jumlah missing values. Kolom dengan terlalu banyak missing values (lebih dari 20%) dihapus, lalu baris yang masih mengandung missing values juga dibuang. Setelah data bersih, semua kolom kategorikal dikonversi menjadi bentuk numerik menggunakan LabelEncoder agar bisa diproses oleh algoritma machine learning."
      ]
    },
    {
      "cell_type": "markdown",
      "id": "63f90095",
      "metadata": {
        "id": "63f90095"
      },
      "source": [
        "## Pisahkan fitur dan target"
      ]
    },
    {
      "cell_type": "code",
      "execution_count": null,
      "id": "d311be99",
      "metadata": {
        "colab": {
          "base_uri": "https://localhost:8080/"
        },
        "id": "d311be99",
        "outputId": "12549a78-64e5-4eba-90d4-142823ed421a"
      },
      "outputs": [
        {
          "output_type": "stream",
          "name": "stdout",
          "text": [
            "Ukuran fitur (X): (3265, 9)\n",
            "Ukuran target (y): (3265,)\n"
          ]
        }
      ],
      "source": [
        "# 4. Pisahkan fitur dan target\n",
        "\n",
        "# Memisahkan fitur (X) dan target (y) dari dataset\n",
        "# X berisi semua kolom kecuali 'Reviews', yang akan digunakan sebagai fitur input\n",
        "X = df.drop('Reviews', axis=1)\n",
        "# y berisi kolom 'Reviews', yang akan dijadikan target/output untuk prediksi\n",
        "y = df['Reviews']\n",
        "\n",
        "# Menampilkan bentuk (dimensi) dari X dan y untuk memastikan pemisahan berjalan dengan benar\n",
        "print(\"Ukuran fitur (X):\", X.shape)\n",
        "print(\"Ukuran target (y):\", y.shape)\n"
      ]
    },
    {
      "cell_type": "markdown",
      "id": "1b3f1e6c",
      "metadata": {
        "id": "1b3f1e6c"
      },
      "source": [
        "Kode ini memisahkan dataset menjadi dua bagian: X (fitur-fitur yang digunakan untuk memprediksi) dan y (target yang akan diprediksi, yaitu kolom 'Reviews'). Tidak ada output secara default karena hanya melakukan assignment. Untuk memastikan hasilnya benar, kita tambahkan print(X.shape) dan print(y.shape) agar terlihat jumlah baris dan kolom dari masing-masing bagian."
      ]
    },
    {
      "cell_type": "markdown",
      "id": "31684947",
      "metadata": {
        "id": "31684947"
      },
      "source": [
        "## Split data train dan test"
      ]
    },
    {
      "cell_type": "code",
      "execution_count": null,
      "id": "ba1408f1",
      "metadata": {
        "colab": {
          "base_uri": "https://localhost:8080/"
        },
        "id": "ba1408f1",
        "outputId": "10ad9d35-591c-4197-8b7e-1340385365a9"
      },
      "outputs": [
        {
          "output_type": "stream",
          "name": "stdout",
          "text": [
            "Ukuran X_train: (2612, 9)\n",
            "Ukuran X_test : (653, 9)\n",
            "Ukuran y_train: (2612,)\n",
            "Ukuran y_test : (653,)\n"
          ]
        }
      ],
      "source": [
        "# 5. Split data train dan test\n",
        "\n",
        "#Memisahkan data menjadi data latih (train) dan data uji (test)\n",
        "X_train, X_test, y_train, y_test = train_test_split(X, y, test_size=0.2, random_state=42)\n",
        "\n",
        "# Menampilkan ukuran masing-masing data hasil split\n",
        "print(\"Ukuran X_train:\", X_train.shape)\n",
        "print(\"Ukuran X_test :\", X_test.shape)\n",
        "print(\"Ukuran y_train:\", y_train.shape)\n",
        "print(\"Ukuran y_test :\", y_test.shape)\n"
      ]
    },
    {
      "cell_type": "markdown",
      "id": "e707d95c",
      "metadata": {
        "id": "e707d95c"
      },
      "source": [
        "test_size=0.2 berarti 20% data akan digunakan untuk pengujian, sisanya 80% untuk pelatihan\n",
        "random_state=42 digunakan agar hasil pembagian data konsisten (reproducible)"
      ]
    },
    {
      "cell_type": "markdown",
      "id": "79c428e5",
      "metadata": {
        "id": "79c428e5"
      },
      "source": [
        "## Feature Scaling"
      ]
    },
    {
      "cell_type": "code",
      "execution_count": null,
      "id": "4810e8af",
      "metadata": {
        "colab": {
          "base_uri": "https://localhost:8080/"
        },
        "id": "4810e8af",
        "outputId": "6989a916-a7ee-4fac-c62f-dc1556207d18"
      },
      "outputs": [
        {
          "output_type": "stream",
          "name": "stdout",
          "text": [
            "Contoh hasil scaling (X_train):\n",
            "   Product Name  Product ID  Listing Price  Sale Price  Discount     Brand  \\\n",
            "0      0.951971   -1.157618       0.859603   -0.145761  1.028875  0.671961   \n",
            "1     -0.388184   -0.466763      -0.548128   -0.937535  1.028875 -1.119021   \n",
            "2     -0.264184   -0.281674      -0.884303   -0.998986  0.145291 -1.119021   \n",
            "3      0.374893   -1.010193      -1.451387    2.334972 -1.180085  1.567452   \n",
            "4     -0.242722    0.786891      -0.064877   -0.509741  0.587083 -1.119021   \n",
            "\n",
            "   Description    Rating  Last Visited  \n",
            "0    -0.399032  0.319336     -0.763445  \n",
            "1     0.908084 -2.285047     -0.164106  \n",
            "2    -0.162783  0.671280     -0.748827  \n",
            "3    -1.080669  0.530503      1.707001  \n",
            "4    -0.871530  0.882446     -0.748827  \n"
          ]
        }
      ],
      "source": [
        "# 6. Feature Scaling\n",
        "\n",
        "# Melakukan standardisasi (scaling) pada fitur agar semua fitur berada pada skala yang sama\n",
        "# Ini penting agar model seperti SVM dan KNN bisa bekerja dengan lebih akurat\n",
        "\n",
        "scaler = StandardScaler()\n",
        "X_train_scaled = scaler.fit_transform(X_train)  # Menyesuaikan scaler dengan data latih, lalu transformasi\n",
        "X_test_scaled = scaler.transform(X_test)        # Transformasi data uji menggunakan scaler yang sama\n",
        "\n",
        "# Menampilkan contoh hasil scaling dari 5 baris pertama\n",
        "print(\"Contoh hasil scaling (X_train):\")\n",
        "print(pd.DataFrame(X_train_scaled, columns=X_train.columns).head())"
      ]
    },
    {
      "cell_type": "markdown",
      "id": "9892eabd",
      "metadata": {
        "id": "9892eabd"
      },
      "source": [
        "Kode ini melakukan standarisasi fitur dengan StandardScaler, yang mengubah setiap kolom agar memiliki rata-rata 0 dan standar deviasi 1. Ini penting terutama untuk algoritma yang sensitif terhadap skala, seperti SVM dan KNN."
      ]
    },
    {
      "cell_type": "markdown",
      "id": "2c3614a9",
      "metadata": {
        "id": "2c3614a9"
      },
      "source": [
        "## Modeling dan Evaluasi"
      ]
    },
    {
      "cell_type": "code",
      "execution_count": null,
      "id": "629fe7f1",
      "metadata": {
        "colab": {
          "base_uri": "https://localhost:8080/"
        },
        "id": "629fe7f1",
        "outputId": "11b13fd5-57ce-4e0a-abc2-ef1d23911aaf"
      },
      "outputs": [
        {
          "output_type": "stream",
          "name": "stdout",
          "text": [
            "\n",
            "Model: Linear Regression\n",
            "Mean Squared Error: 814.93\n",
            "R2 Score: 0.20\n",
            "\n",
            "Model: Naive Bayes\n",
            "Mean Squared Error: 1435.07\n",
            "R2 Score: -0.40\n",
            "\n",
            "Model: Decision Tree\n",
            "Mean Squared Error: 1509.19\n",
            "R2 Score: -0.48\n"
          ]
        }
      ],
      "source": [
        "# 7. Modeling dan Evaluasi\n",
        "\n",
        "# Membuat dictionary berisi 5 model supervised learning yang akan digunakan:\n",
        "models = {\n",
        "    'Linear Regression': LinearRegression(),\n",
        "    'Naive Bayes': GaussianNB(),\n",
        "    'Decision Tree': DecisionTreeRegressor(random_state=42),\n",
        "\n",
        "\n",
        "}\n",
        "\n",
        "# Dictionary untuk menyimpan hasil evaluasi tiap model\n",
        "results = {}\n",
        "\n",
        "# Melatih dan menguji setiap model dalam loop\n",
        "for name, model in models.items():\n",
        "    model.fit(X_train_scaled, y_train)                   # Melatih model dengan data latih\n",
        "    y_pred = model.predict(X_test_scaled)                # Memprediksi data uji\n",
        "    mse = mean_squared_error(y_test, y_pred)             # Menghitung error (MSE)\n",
        "    r2 = r2_score(y_test, y_pred)                        # Mengukur performa (R2 score)\n",
        "    results[name] = {'MSE': mse, 'R2': r2}               # Simpan hasil evaluasi\n",
        "    print(f\"\\nModel: {name}\")\n",
        "    print(f\"Mean Squared Error: {mse:.2f}\")\n",
        "    print(f\"R2 Score: {r2:.2f}\")"
      ]
    },
    {
      "cell_type": "markdown",
      "id": "7e8922d5",
      "metadata": {
        "id": "7e8922d5"
      },
      "source": [
        "Bagian ini melakukan pelatihan (fit), prediksi, dan evaluasi lima model machine learning berbeda. Setiap model diuji dengan data yang telah distandarisasi, lalu dihitung nilai error-nya menggunakan MSE (Mean Squared Error) dan seberapa baik model menjelaskan variansi data menggunakan R² Score. Hasil evaluasi ditampilkan ke layar dan disimpan dalam dictionary results untuk visualisasi atau analisis lebih lanjut."
      ]
    },
    {
      "cell_type": "markdown",
      "id": "f3c359f5",
      "metadata": {
        "id": "f3c359f5"
      },
      "source": [
        "## Visualisasi Hasil Evaluasi"
      ]
    },
    {
      "cell_type": "code",
      "execution_count": null,
      "id": "666fd8e3",
      "metadata": {
        "colab": {
          "base_uri": "https://localhost:8080/",
          "height": 507
        },
        "id": "666fd8e3",
        "outputId": "f0bc11d4-109f-4d06-b915-bc7ab6eb9ce0"
      },
      "outputs": [
        {
          "output_type": "display_data",
          "data": {
            "text/plain": [
              "<Figure size 1000x500 with 2 Axes>"
            ],
            "image/png": "[encoded data removed]"
          },
          "metadata": {}
        }
      ],
      "source": [
        "# 8. Visualisasi Hasil Evaluasi\n",
        "\n",
        "# Mengubah dictionary hasil evaluasi ke dalam bentuk DataFrame dan mentranspose-nya\n",
        "# Sehingga model menjadi baris dan metrik (MSE, R2) menjadi kolom\n",
        "results_df = pd.DataFrame(results).T\n",
        "\n",
        "# Membuat figure dengan ukuran 10x5 inci dan membaginya menjadi 2 plot samping\n",
        "plt.figure(figsize=(10, 5))\n",
        "\n",
        "# Plot pertama: visualisasi Mean Squared Error untuk setiap model\n",
        "plt.subplot(1, 2, 1)\n",
        "sns.barplot(x=results_df.index, y='MSE', data=results_df)\n",
        "plt.title('MSE per Model')\n",
        "plt.xticks(rotation=45)  # Memiringkan label sumbu X agar mudah dibaca\n",
        "\n",
        "# Plot kedua: visualisasi R2 Score untuk setiap model\n",
        "plt.subplot(1, 2, 2)\n",
        "sns.barplot(x=results_df.index, y='R2', data=results_df)\n",
        "plt.title('R2 Score per Model')\n",
        "plt.xticks(rotation=45)\n",
        "\n",
        "# Menyesuaikan tata letak agar tidak saling menumpuk\n",
        "plt.tight_layout()\n",
        "plt.show()"
      ]
    },
    {
      "cell_type": "markdown",
      "id": "79642a07",
      "metadata": {
        "id": "79642a07"
      },
      "source": [
        "Kode ini menampilkan visualisasi perbandingan performa model berdasarkan dua metrik utama: MSE (semakin kecil semakin baik) dan R² Score (semakin mendekati 1 semakin baik). Hasil prediksi yang sebelumnya disimpan dalam dictionary results diubah ke dalam bentuk DataFrame agar bisa diplot dengan seaborn. Dengan grafik ini, kita bisa dengan mudah melihat model mana yang paling akurat dan efisien."
      ]
    },
    {
      "cell_type": "markdown",
      "id": "3fc84e5c",
      "metadata": {
        "id": "3fc84e5c"
      },
      "source": [
        "## Rekomendasi"
      ]
    },
    {
      "cell_type": "code",
      "execution_count": null,
      "id": "c7aa0425",
      "metadata": {
        "colab": {
          "base_uri": "https://localhost:8080/"
        },
        "id": "c7aa0425",
        "outputId": "209bf538-185b-4d59-92e8-577abf8ee9aa"
      },
      "outputs": [
        {
          "output_type": "stream",
          "name": "stdout",
          "text": [
            "\n",
            "Rekomendasi:\n",
            "Model terbaik berdasarkan R2 adalah: Linear Regression dengan skor R2 0.20\n"
          ]
        }
      ],
      "source": [
        "# 9. Rekomendasi\n",
        "\n",
        "# Menampilkan rekomendasi model terbaik berdasarkan skor R² tertinggi\n",
        "print(\"\\nRekomendasi:\")\n",
        "\n",
        "# Mencari nama model dengan nilai R² paling tinggi\n",
        "best_model = results_df['R2'].idxmax()\n",
        "\n",
        "# Menampilkan nama model terbaik dan skor R²-nya\n",
        "print(f\"Model terbaik berdasarkan R2 adalah: {best_model} dengan skor R2 {results_df.loc[best_model, 'R2']:.2f}\")"
      ]
    },
    {
      "cell_type": "markdown",
      "id": "8983c425",
      "metadata": {
        "id": "8983c425"
      },
      "source": [
        "Bagian ini digunakan untuk memberikan rekomendasi akhir berdasarkan evaluasi model. Model dengan nilai R² tertinggi dianggap paling baik karena mampu menjelaskan variansi data target dengan paling akurat. Nilai R² tersebut ditampilkan bersama nama modelnya sebagai hasil akhir analisis."
      ]
    }
  ],
  "metadata": {
    "kernelspec": {
      "display_name": "Python 3",
      "language": "python",
      "name": "python3"
    },
    "language_info": {
      "codemirror_mode": {
        "name": "ipython",
        "version": 3
      },
      "file_extension": ".py",
      "mimetype": "text/x-python",
      "name": "python",
      "nbconvert_exporter": "python",
      "pygments_lexer": "ipython3",
      "version": "3.11.9"
    },
    "colab": {
      "provenance": [],
      "include_colab_link": true
    }
  },
  "nbformat": 4,
  "nbformat_minor": 5
}